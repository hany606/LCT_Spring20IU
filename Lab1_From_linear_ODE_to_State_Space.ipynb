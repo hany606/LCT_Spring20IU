{
  "nbformat": 4,
  "nbformat_minor": 0,
  "metadata": {
    "colab": {
      "name": "Copy of Lab1 - From linear ODE to State Space.ipynb",
      "provenance": [],
      "collapsed_sections": [],
      "include_colab_link": true
    },
    "kernelspec": {
      "name": "python3",
      "display_name": "Python 3"
    }
  },
  "cells": [
    {
      "cell_type": "markdown",
      "metadata": {
        "id": "view-in-github",
        "colab_type": "text"
      },
      "source": [
        "<a href=\"https://colab.research.google.com/github/hany606/LCT_Spring20IU/blob/master/Lab1_From_linear_ODE_to_State_Space.ipynb\" target=\"_parent\"><img src=\"https://colab.research.google.com/assets/colab-badge.svg\" alt=\"Open In Colab\"/></a>"
      ]
    },
    {
      "cell_type": "markdown",
      "metadata": {
        "id": "IjYd4nOfLCGZ",
        "colab_type": "text"
      },
      "source": [
        "# From linear ODE to State Space\n",
        "\n",
        "Given an ODE:\n",
        "\n",
        "$$a_{k}y^{(k)} +a_{k-1}y^{(k-1)}+...+a_{2}\\ddot y+a_{1}\\dot y + a_0 y= b_0$$\n",
        "\n",
        "find its state space representation:\n",
        "\n",
        "$$\\dot x = Ax + b$$"
      ]
    },
    {
      "cell_type": "code",
      "metadata": {
        "id": "KrhFocVDKtWu",
        "colab_type": "code",
        "outputId": "6622b7f0-fcb0-4baa-b3d1-13e6fdcac4b8",
        "colab": {
          "base_uri": "https://localhost:8080/",
          "height": 170
        }
      },
      "source": [
        "import numpy as np\n",
        "\n",
        "n = 7                     # degree of the polynomial \n",
        "a = np.random.rand(n)     # coefficients: [a0 a1 ... ak]\n",
        "print(\"Our coeffitients a are:\", a)\n",
        "a = np.flip(a)            #to be pedantic with indicies in the notation\n",
        "\n",
        "a_norm = a[1:] / a[0]     # divide by \"ak\"\n",
        "\n",
        "A = np.zeros((n-1, n-1))  # state matrix\n",
        "A[0 , 0:] = -a_norm\n",
        "A[1:, 0:(n-2)] = np.eye(n-2)\n",
        "\n",
        "print(\"Our matrix A:\")\n",
        "print(A)"
      ],
      "execution_count": 0,
      "outputs": [
        {
          "output_type": "stream",
          "text": [
            "Our coeffitients a are: [0.22157825 0.7051827  0.04292841 0.16478453 0.27657869 0.26516263\n",
            " 0.31615622]\n",
            "Our matrix A:\n",
            "[[-0.83870764 -0.87481654 -0.52121237 -0.13578227 -2.23048815 -0.70085054]\n",
            " [ 1.          0.          0.          0.          0.          0.        ]\n",
            " [ 0.          1.          0.          0.          0.          0.        ]\n",
            " [ 0.          0.          1.          0.          0.          0.        ]\n",
            " [ 0.          0.          0.          1.          0.          0.        ]\n",
            " [ 0.          0.          0.          0.          1.          0.        ]]\n"
          ],
          "name": "stdout"
        }
      ]
    },
    {
      "cell_type": "markdown",
      "metadata": {
        "id": "gdGRNxm0VUGE",
        "colab_type": "text"
      },
      "source": [
        "# Solve linear ODE and its state space representation\n",
        "\n",
        "Assume $$ b = 0 $$"
      ]
    },
    {
      "cell_type": "code",
      "metadata": {
        "id": "nqErSOHZVcd5",
        "colab_type": "code",
        "colab": {}
      },
      "source": [
        "from scipy.integrate import odeint\n",
        "import matplotlib.pyplot as plt\n",
        "\n",
        "# x_dot from ODE\n",
        "def LinearODE(x, t):\n",
        "    dx = np.zeros(n-1)\n",
        "    dx[0] = -a_norm.dot(x)\n",
        "    dx[1:] = x[0:(n-2)]\n",
        "    return dx\n",
        "\n",
        "# x_dot from state space\n",
        "def StateSpace(x, t):\n",
        "    return A.dot(x)\n",
        "\n",
        "time = np.linspace(0, 1, 1000)   \n",
        "x0 = np.random.rand(n-1)  # initial state\n",
        "\n",
        "solution = {\"ODE\": odeint(LinearODE, x0, time), \"SS\": odeint(StateSpace, x0, time)}\n"
      ],
      "execution_count": 0,
      "outputs": []
    },
    {
      "cell_type": "code",
      "metadata": {
        "id": "ifQyupVVcbfH",
        "colab_type": "code",
        "outputId": "90166bb7-4c91-42e4-8b4a-8622afe7fa92",
        "colab": {
          "base_uri": "https://localhost:8080/",
          "height": 279
        }
      },
      "source": [
        "# ode based model\n",
        "plt.subplot(121)\n",
        "plt.plot(time, solution[\"ODE\"])\n",
        "plt.xlabel('time')\n",
        "plt.ylabel('x(t)')\n",
        "\n",
        "# state space based model\n",
        "plt.subplot(122)\n",
        "plt.plot(time, solution[\"SS\"])\n",
        "plt.xlabel('time')\n",
        "plt.ylabel('x(t)')\n",
        "\n",
        "plt.show()"
      ],
      "execution_count": 0,
      "outputs": [
        {
          "output_type": "display_data",
          "data": {
            "image/png": "[encoded data removed]",
            "text/plain": [
              "<Figure size 432x288 with 2 Axes>"
            ]
          },
          "metadata": {
            "tags": []
          }
        }
      ]
    },
    {
      "cell_type": "code",
      "metadata": {
        "id": "TQWbKoQIBwxx",
        "colab_type": "code",
        "outputId": "b9e3a90a-9afa-4d4a-ba6a-0ab7a5278d4a",
        "colab": {
          "base_uri": "https://localhost:8080/",
          "height": 51
        }
      },
      "source": [
        "e, v = np.linalg.eig(A)\n",
        "print(\"eigenvalues of A:\", e)"
      ],
      "execution_count": 0,
      "outputs": [
        {
          "output_type": "stream",
          "text": [
            "eigenvalues of A: [ 0.75289453+0.75369612j  0.75289453-0.75369612j -0.41620377+1.20842069j\n",
            " -0.41620377-1.20842069j -1.19599682+0.j         -0.31609233+0.j        ]\n"
          ],
          "name": "stdout"
        }
      ]
    },
    {
      "cell_type": "markdown",
      "metadata": {
        "id": "PAraxRiPP_qX",
        "colab_type": "text"
      },
      "source": [
        "# Linear time variant systems\n",
        "\n",
        "What if one of the coefficients of your ODE is changing with time? How do you model that? Consider example:\n",
        "\n",
        "$$\\begin{bmatrix} \\dot x_1 \\\\ \\dot x_2 \\end{bmatrix} = \n",
        "\\begin{bmatrix} \n",
        "-10 & sin(t) \\\\\n",
        "5 & -14 \n",
        "\\end{bmatrix} \n",
        "\\begin{bmatrix}x_1 \\\\ x_2 \\end{bmatrix}$$"
      ]
    },
    {
      "cell_type": "code",
      "metadata": {
        "id": "-T6n7rH8P_Dh",
        "colab_type": "code",
        "outputId": "f6791ff4-6a02-4b6f-f568-72d144485a34",
        "colab": {
          "base_uri": "https://localhost:8080/",
          "height": 279
        }
      },
      "source": [
        "from math import sin\n",
        "\n",
        "def LTV(x, t):\n",
        "    A = np.array([[-10, sin(t)], [5, -14]])\n",
        "    return A.dot(x)\n",
        "\n",
        "x0 = np.random.rand(2)\n",
        "solution[\"LTV\"] = odeint(LTV, x0, time)\n",
        "\n",
        "plt.plot(time, solution[\"LTV\"])\n",
        "plt.xlabel('time')\n",
        "plt.ylabel('x(t)')\n",
        "plt.show()"
      ],
      "execution_count": 0,
      "outputs": [
        {
          "output_type": "display_data",
          "data": {
            "image/png": "[encoded data removed]",
            "text/plain": [
              "<Figure size 432x288 with 1 Axes>"
            ]
          },
          "metadata": {
            "tags": []
          }
        }
      ]
    },
    {
      "cell_type": "markdown",
      "metadata": {
        "id": "TXqwrkPIGJAF",
        "colab_type": "text"
      },
      "source": [
        ""
      ]
    },
    {
      "cell_type": "markdown",
      "metadata": {
        "id": "2Ht1uBFzCgL9",
        "colab_type": "text"
      },
      "source": [
        "# Questions for you:\n",
        "\n",
        "* Is the ODE stable? Does its solution converges or diverges?\n",
        "* How can you explain it?\n",
        "* How would you analyse eigenvalues of an LTV system? What does that even mean?"
      ]
    },
    {
      "cell_type": "markdown",
      "metadata": {
        "id": "tiXRzSXzBY3e",
        "colab_type": "text"
      },
      "source": [
        "# Your task:\n",
        "\n",
        "1 part(85%)\n",
        "* Do the same but take $b_0$ into account.\n",
        "* Write state-space model for a spring-damper system\n",
        "* Make simulation\n",
        "\n",
        "<img src=\"https://www.mdpi.com/entropy/entropy-17-06289/article_deploy/html/images/entropy-17-06289-g001.png\" width=\"400\">\n",
        "\n",
        "2 part(15%)\n",
        "* System from Ogata B-3-4 (Same task)\n",
        "\n",
        "# Recomended:\n",
        "\n",
        "Ogata 2-4,5 3-2; Strogatz 5.0-2\n"
      ]
    }
  ]
}