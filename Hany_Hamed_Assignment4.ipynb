{
  "nbformat": 4,
  "nbformat_minor": 0,
  "metadata": {
    "colab": {
      "name": "Hany_Hamed_Assignment4.ipynb",
      "provenance": [],
      "collapsed_sections": [],
      "authorship_tag": "ABX9TyMqun4aH39d09hJycJtaDSR",
      "include_colab_link": true
    },
    "kernelspec": {
      "name": "python3",
      "display_name": "Python 3"
    }
  },
  "cells": [
    {
      "cell_type": "markdown",
      "metadata": {
        "id": "view-in-github",
        "colab_type": "text"
      },
      "source": [
        "<a href=\"https://colab.research.google.com/github/hany606/LCT_Spring20IU/blob/master/Hany_Hamed_Assignment4.ipynb\" target=\"_parent\"><img src=\"https://colab.research.google.com/assets/colab-badge.svg\" alt=\"Open In Colab\"/></a>"
      ]
    },
    {
      "cell_type": "markdown",
      "metadata": {
        "id": "wGckzJCkYEFC",
        "colab_type": "text"
      },
      "source": [
        "# Task\n",
        "Write LQR for a time-variant system. Use either an iterative version (recomputing k every few time steps) or use TV LQR"
      ]
    },
    {
      "cell_type": "markdown",
      "metadata": {
        "id": "INVZWPKPbbT9",
        "colab_type": "text"
      },
      "source": [
        "# Solution\n",
        "\n",
        "The system is:\n",
        "\n",
        "$$\\begin{bmatrix} \\dot x \\\\ \\ddot x \\end{bmatrix} = \n",
        "\\begin{bmatrix} \n",
        "sin(t) & 1 \\\\\n",
        "5 & -5 \n",
        "\\end{bmatrix} \n",
        "\\begin{bmatrix}x \\\\ \\dot x \\end{bmatrix} + \n",
        "\\begin{bmatrix} \n",
        "1 & 0 \\\\\n",
        "0 & 1 \n",
        "\\end{bmatrix} u$$\n"
      ]
    },
    {
      "cell_type": "code",
      "metadata": {
        "id": "3n-t9ojhX_Mx",
        "colab_type": "code",
        "outputId": "e6c6531b-f336-474f-c6c8-507112b368f3",
        "colab": {
          "base_uri": "https://localhost:8080/",
          "height": 295
        }
      },
      "source": [
        "import numpy as np\n",
        "from numpy.linalg import eig\n",
        "from scipy.integrate import odeint\n",
        "import matplotlib.pyplot as plt\n",
        "from math import sin\n",
        "from scipy.linalg import solve_continuous_are, inv\n",
        "\n",
        "\n",
        "def A(t):\n",
        "  return np.array([[sin(t), 1], [5, -5]]) # state matrix\n",
        "\n",
        "B = np.array([[1, 0], [0, 1]]) \n",
        "\n",
        "def LTV_no_control(x, t):\n",
        "    return A(t).dot(x)\n",
        "\n",
        "\n",
        "  \n",
        "time = np.linspace(0, 7, 1000)    # interval from 0 to 5\n",
        "x0 = np.random.rand(2)            # initial state\n",
        "\n",
        "\n",
        "solution = odeint(LTV_no_control, x0, time)\n",
        "x_desired_vector_plt = [0,0]\n",
        "\n",
        "plt.plot(time, solution)\n",
        "plt.xlabel('time')\n",
        "plt.ylabel('x(t)')\n",
        "plt.title('No Control')\n",
        "plt.show()\n"
      ],
      "execution_count": 10,
      "outputs": [
        {
          "output_type": "display_data",
          "data": {
            "image/png": "[encoded data removed]",
            "text/plain": [
              "<Figure size 432x288 with 1 Axes>"
            ]
          },
          "metadata": {
            "tags": []
          }
        }
      ]
    },
    {
      "cell_type": "markdown",
      "metadata": {
        "id": "szcF7mZzW2F9",
        "colab_type": "text"
      },
      "source": [
        "**Using Iterative verion of LQR**\n"
      ]
    },
    {
      "cell_type": "code",
      "metadata": {
        "id": "Dt74Gy-iqqHP",
        "colab_type": "code",
        "outputId": "100d8f73-a060-46b7-85de-2f99bcb151ab",
        "colab": {
          "base_uri": "https://localhost:8080/",
          "height": 295
        }
      },
      "source": [
        "time_step = 0.005\n",
        "time_start = 0\n",
        "time_range = [time_start, time_start+time_step]\n",
        "flag = 1\n",
        "\n",
        "Q = np.array([[1, 0], [0, 1]])  # Weights for states\n",
        "R = np.array([[1, 0], [0, 1]])  # Weights for Resources\n",
        "\n",
        "\n",
        "def calcK(t):\n",
        "  s = (solve_continuous_are(A(t),B,Q,R))\n",
        "  k = (inv(R)*(B.T*s))\n",
        "  return k\n",
        "\n",
        "k = calcK(0)\n",
        "u = -k\n",
        "\n",
        "def LTV_control(x, t):\n",
        "  global flag\n",
        "  global u\n",
        "  global time_range\n",
        "\n",
        "  # elif(flag == 1 and t >= time_range[0] and t <= time_range[1]):\n",
        "    # nothing\n",
        "  if(flag == 1 and t > time_range[1]):\n",
        "    flag = 0\n",
        "    time_range[0] = time_range[1]\n",
        "    time_range[1] = time_range[0] + time_step\n",
        "\n",
        "  if(flag == 0 and t >= time_range[0] and t <= time_range[1]):\n",
        "    global u\n",
        "    flag = 1\n",
        "    u = -calcK(t)\n",
        "  \n",
        "  # print(u)  \n",
        "  return A(t).dot(x) + B.dot(u.dot(x))\n",
        "\n",
        "\n",
        "  \n",
        "time = np.linspace(0, 7, 1000)    # interval from 0 to 5\n",
        "x0 = np.random.rand(2)            # initial state\n",
        "\n",
        "\n",
        "solution = odeint(LTV_control, x0, time)\n",
        "\n",
        "plt.plot(time, solution)\n",
        "plt.xlabel('time')\n",
        "plt.ylabel('x(t)')\n",
        "plt.title('Control')\n",
        "plt.show()\n"
      ],
      "execution_count": 24,
      "outputs": [
        {
          "output_type": "display_data",
          "data": {
            "image/png": "[encoded data removed]",
            "text/plain": [
              "<Figure size 432x288 with 1 Axes>"
            ]
          },
          "metadata": {
            "tags": []
          }
        }
      ]
    }
  ]
}