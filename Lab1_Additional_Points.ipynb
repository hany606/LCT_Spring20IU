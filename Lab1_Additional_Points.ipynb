{
  "nbformat": 4,
  "nbformat_minor": 0,
  "metadata": {
    "colab": {
      "name": "Lab1 - From linear ODE to State Space.ipynb",
      "provenance": [],
      "collapsed_sections": [],
      "include_colab_link": true
    },
    "kernelspec": {
      "name": "python3",
      "display_name": "Python 3"
    }
  },
  "cells": [
    {
      "cell_type": "markdown",
      "metadata": {
        "id": "view-in-github",
        "colab_type": "text"
      },
      "source": [
        "<a href=\"https://colab.research.google.com/github/hany606/LCT_Spring20IU/blob/master/Lab1_Additional_Points.ipynb\" target=\"_parent\"><img src=\"https://colab.research.google.com/assets/colab-badge.svg\" alt=\"Open In Colab\"/></a>"
      ]
    },
    {
      "cell_type": "markdown",
      "metadata": {
        "id": "J8L3iESP5z8x",
        "colab_type": "text"
      },
      "source": [
        "# Info\n",
        "\n",
        "Name: Hany Hamed\n",
        "\n",
        "Group: BS18-06\n",
        "\n"
      ]
    },
    {
      "cell_type": "markdown",
      "metadata": {
        "id": "IjYd4nOfLCGZ",
        "colab_type": "text"
      },
      "source": [
        "# From linear ODE to State Space\n",
        "\n",
        "Given an ODE:\n",
        "\n",
        "$$a_{k}y^{(k)} +a_{k-1}y^{(k-1)}+...+a_{2}\\ddot y+a_{1}\\dot y + a_0 y= b_0$$\n",
        "\n",
        "find its state space representation:\n",
        "\n",
        "$$\\dot x = Ax + b$$"
      ]
    },
    {
      "cell_type": "code",
      "metadata": {
        "id": "KrhFocVDKtWu",
        "colab_type": "code",
        "outputId": "5c6b4aa3-aa3e-49d1-82e1-12e5c04cc03f",
        "colab": {
          "base_uri": "https://localhost:8080/",
          "height": 179
        }
      },
      "source": [
        "import numpy as np\n",
        "\n",
        "n = 7                     # degree of the polynomial including the linear term with zero degree of differentiation (the degree of the ODE is 6)\n",
        "a = np.random.rand(n)     # coefficients: [a0 a1 ... ak]\n",
        "print(\"Our coeffitients a are:\", a)\n",
        "a = np.flip(a)            #to be pedantic with indicies in the notation\n",
        "\n",
        "a_norm = a[1:] / a[0]     # divide by \"ak\"\n",
        "\n",
        "A = np.zeros((n-1, n-1))  # state matrix\n",
        "A[0:(n-2), 1:(n-1)] = np.eye(n-2)\n",
        "A[n-2, 0:] = -a_norm\n",
        "\n",
        "print(\"Our matrix A:\")\n",
        "print(A)"
      ],
      "execution_count": 0,
      "outputs": [
        {
          "output_type": "stream",
          "text": [
            "Our coeffitients a are: [0.09177717 0.66101043 0.58794309 0.13886823 0.02308399 0.97827148\n",
            " 0.4300393 ]\n",
            "Our matrix A:\n",
            "[[ 0.          1.          0.          0.          0.          0.        ]\n",
            " [ 0.          0.          1.          0.          0.          0.        ]\n",
            " [ 0.          0.          0.          1.          0.          0.        ]\n",
            " [ 0.          0.          0.          0.          1.          0.        ]\n",
            " [ 0.          0.          0.          0.          0.          1.        ]\n",
            " [-2.27484204 -0.0536788  -0.32291987 -1.36718455 -1.53709308 -0.21341578]]\n"
          ],
          "name": "stdout"
        }
      ]
    },
    {
      "cell_type": "markdown",
      "metadata": {
        "id": "gdGRNxm0VUGE",
        "colab_type": "text"
      },
      "source": [
        "# Solve linear ODE and its state space representation\n",
        "\n",
        "Assume $$ b = 0 $$"
      ]
    },
    {
      "cell_type": "code",
      "metadata": {
        "id": "nqErSOHZVcd5",
        "colab_type": "code",
        "colab": {}
      },
      "source": [
        "from scipy.integrate import odeint\n",
        "import matplotlib.pyplot as plt\n",
        "\n",
        "# x_dot from ODE\n",
        "def LinearODE(x, t):\n",
        "    dx = np.zeros(n-1)\n",
        "    dx[0:n-2] = x[1:(n-1)]\n",
        "    dx[n-2] = -a_norm.dot(x)\n",
        "    return dx\n",
        "\n",
        "# x_dot from state space\n",
        "def StateSpace(x, t):\n",
        "    return A.dot(x)\n",
        "\n",
        "time = np.linspace(0, 1, 1000)   \n",
        "x0 = np.random.rand(n-1)  # initial state\n",
        "\n",
        "solution = {\"ODE\": odeint(LinearODE, x0, time), \"SS\": odeint(StateSpace, x0, time)}\n"
      ],
      "execution_count": 0,
      "outputs": []
    },
    {
      "cell_type": "code",
      "metadata": {
        "id": "ifQyupVVcbfH",
        "colab_type": "code",
        "outputId": "817feca6-5019-4a71-865e-e1c1f23b7730",
        "colab": {
          "base_uri": "https://localhost:8080/",
          "height": 279
        }
      },
      "source": [
        "# ode based model\n",
        "plt.subplot(121)\n",
        "plt.plot(time, solution[\"ODE\"])\n",
        "plt.xlabel('time')\n",
        "plt.ylabel('x(t)')\n",
        "\n",
        "# state space based model\n",
        "plt.subplot(122)\n",
        "plt.plot(time, solution[\"SS\"])\n",
        "plt.xlabel('time')\n",
        "plt.ylabel('x(t)')\n",
        "\n",
        "plt.show()"
      ],
      "execution_count": 0,
      "outputs": [
        {
          "output_type": "display_data",
          "data": {
            "image/png": "[encoded data removed]",
            "text/plain": [
              "<Figure size 432x288 with 2 Axes>"
            ]
          },
          "metadata": {
            "tags": []
          }
        }
      ]
    },
    {
      "cell_type": "code",
      "metadata": {
        "id": "TQWbKoQIBwxx",
        "colab_type": "code",
        "outputId": "40feea70-2331-4ffd-b48e-52d0c47854d1",
        "colab": {
          "base_uri": "https://localhost:8080/",
          "height": 53
        }
      },
      "source": [
        "e, v = np.linalg.eig(A)\n",
        "print(\"eigenvalues of A:\", e)"
      ],
      "execution_count": 0,
      "outputs": [
        {
          "output_type": "stream",
          "text": [
            "eigenvalues of A: [ 0.1532833 +1.42394048j  0.1532833 -1.42394048j -0.92693505+0.55899081j\n",
            " -0.92693505-0.55899081j  0.66694386+0.70835104j  0.66694386-0.70835104j]\n"
          ],
          "name": "stdout"
        }
      ]
    },
    {
      "cell_type": "markdown",
      "metadata": {
        "id": "PAraxRiPP_qX",
        "colab_type": "text"
      },
      "source": [
        "# Linear time variant systems\n",
        "\n",
        "What if one of the coefficients of your ODE is changing with time? How do you model that? Consider example:\n",
        "\n",
        "$$\\begin{bmatrix} \\dot x_1 \\\\ \\dot x_2 \\end{bmatrix} = \n",
        "\\begin{bmatrix} \n",
        "-10 & sin(t) \\\\\n",
        "5 & -14 \n",
        "\\end{bmatrix} \n",
        "\\begin{bmatrix}x_1 \\\\ x_2 \\end{bmatrix}$$"
      ]
    },
    {
      "cell_type": "code",
      "metadata": {
        "id": "-T6n7rH8P_Dh",
        "colab_type": "code",
        "outputId": "78cac960-368b-4242-8784-33d169dbed1a",
        "colab": {
          "base_uri": "https://localhost:8080/",
          "height": 279
        }
      },
      "source": [
        "from math import sin\n",
        "\n",
        "def LTV(x, t):\n",
        "    A = np.array([[-10, sin(t)], [5, -14]])\n",
        "    return A.dot(x)\n",
        "\n",
        "x0 = np.random.rand(2)\n",
        "solution[\"LTV\"] = odeint(LTV, x0, time)\n",
        "\n",
        "plt.plot(time, solution[\"LTV\"])\n",
        "plt.xlabel('time')\n",
        "plt.ylabel('x(t)')\n",
        "plt.show()"
      ],
      "execution_count": 0,
      "outputs": [
        {
          "output_type": "display_data",
          "data": {
            "image/png": "[encoded data removed]",
            "text/plain": [
              "<Figure size 432x288 with 1 Axes>"
            ]
          },
          "metadata": {
            "tags": []
          }
        }
      ]
    },
    {
      "cell_type": "markdown",
      "metadata": {
        "id": "2Ht1uBFzCgL9",
        "colab_type": "text"
      },
      "source": [
        "# Questions for you:\n",
        "\n",
        "* Is the ODE stable? Does its solution converges or diverges?\n",
        "* How can you explain it?\n",
        "* How would you analyse eigenvalues of an LTV system? What does that even mean?"
      ]
    },
    {
      "cell_type": "markdown",
      "metadata": {
        "id": "iR1_jt8GBmGV",
        "colab_type": "text"
      },
      "source": [
        "# My Answers"
      ]
    },
    {
      "cell_type": "markdown",
      "metadata": {
        "id": "TXqwrkPIGJAF",
        "colab_type": "text"
      },
      "source": [
        "The above solution converges to zero, it can be explained by getting the eignevalues of the matrix, if any one of them is positive it will diverge.  \n",
        "  \n",
        "The equation from getting the eigenvalues $det(A-\\lambda) = 0$ is:\n",
        "\n",
        "$\\lambda^2 + 4\\lambda + 140 + 5 sin(t) = 0$ as the sin(t) is bounded by [-1,1] while $t \\to \\infty$ then with any value of sin(t) the constant term will still positive which will result that $\\lambda$ is negative and this means that any eigenvalues will be negative which will lead to converge and the system will be stable\n",
        "\n",
        "The analysis of the eigenvalues, because the solution is always guessed in the form of the exponential and this form will not have the right substitution unless the power of the exponential is the eigenvalues.\n"
      ]
    },
    {
      "cell_type": "markdown",
      "metadata": {
        "id": "tiXRzSXzBY3e",
        "colab_type": "text"
      },
      "source": [
        "# Your task:\n",
        "\n",
        "1 part(85%)\n",
        "* Do the same but take $b_0$ into account.\n",
        "* Write state-space model for a spring-damper system\n",
        "* Make simulation\n",
        "\n",
        "<img src=\"https://www.mdpi.com/entropy/entropy-17-06289/article_deploy/html/images/entropy-17-06289-g001.png\" width=\"400\">\n",
        "\n",
        "2 part(15%)\n",
        "* System from Ogata B-3-4 (Same task)\n",
        "\n",
        "# Recomended:\n",
        "\n",
        "Ogata 2-4,5 3-2; Strogatz 5.0-2\n"
      ]
    },
    {
      "cell_type": "markdown",
      "metadata": {
        "id": "X6I1Te8Y8Nmz",
        "colab_type": "text"
      },
      "source": [
        "# 1st point solution in Part 1 of the task\n",
        "*Do the same but take  b0  into account.*"
      ]
    },
    {
      "cell_type": "code",
      "metadata": {
        "id": "uqbOIP7B8KeM",
        "colab_type": "code",
        "outputId": "d75b4651-6da8-4415-fc3a-fb7cd05b428f",
        "colab": {
          "base_uri": "https://localhost:8080/",
          "height": 441
        }
      },
      "source": [
        "# First point\n",
        "from scipy.integrate import odeint\n",
        "import matplotlib.pyplot as plt\n",
        "import numpy as np\n",
        "\n",
        "n = 7                     # degree of the polynomial including the linear term with zero degree of differentiation (the degree of the ODE is 6)\n",
        "a = np.random.rand(n)     # coefficients: [a0 a1 ... ak]\n",
        "print(\"Our coeffitients a are:\", a)\n",
        "a = np.flip(a)            #to be pedantic with indicies in the notation\n",
        "\n",
        "a_norm = a[1:] / a[0]     # divide by \"ak\"\n",
        "\n",
        "A = np.zeros((n-1, n-1))  # state matrix\n",
        "A[0:(n-2), 1:(n-1)] = np.eye(n-2)\n",
        "A[n-2, 0:] = -a_norm\n",
        "\n",
        "print(\"Our matrix A:\")\n",
        "print(A)\n",
        "\n",
        "# Make F depends on t\n",
        "def functionF(t):\n",
        "  # return 5\n",
        "  return np.sin(t)\n",
        "\n",
        "# x_dot from ODE\n",
        "\n",
        "def LinearODE(x, t):\n",
        "    b = functionF(t)/a[0]\n",
        "    dx = np.zeros(n-1)\n",
        "    dx[0:n-2] = x[1:(n-1)]\n",
        "    dx[n-2] = -a_norm.dot(x) + b\n",
        "    return dx\n",
        "\n",
        "# x_dot from state space\n",
        "def StateSpace(x, t):\n",
        "    b = functionF(t)\n",
        "    b_matrix_coefficients = np.zeros(n-1)\n",
        "    b_matrix_coefficients[n-2] = 1/a[0]\n",
        "    return A.dot(x) + b_matrix_coefficients.dot(b)\n",
        "\n",
        "time = np.linspace(0, 1, 1000)   \n",
        "x0 = np.random.rand(n-1)  # initial state\n",
        "\n",
        "solution = {\"ODE\": odeint(LinearODE, x0, time), \"SS\": odeint(StateSpace, x0, time)}\n",
        "\n",
        "# ode based model\n",
        "plt.subplot(121)\n",
        "plt.plot(time, solution[\"ODE\"])\n",
        "plt.xlabel('time')\n",
        "plt.ylabel('x(t)')\n",
        "\n",
        "# state space based model\n",
        "plt.subplot(122)\n",
        "plt.plot(time, solution[\"SS\"])\n",
        "plt.xlabel('time')\n",
        "plt.ylabel('x(t)')\n",
        "\n",
        "plt.show()"
      ],
      "execution_count": 0,
      "outputs": [
        {
          "output_type": "stream",
          "text": [
            "Our coeffitients a are: [0.75357929 0.74884262 0.52372047 0.90297848 0.81948828 0.2766327\n",
            " 0.84302997]\n",
            "Our matrix A:\n",
            "[[ 0.          1.          0.          0.          0.          0.        ]\n",
            " [ 0.          0.          1.          0.          0.          0.        ]\n",
            " [ 0.          0.          0.          1.          0.          0.        ]\n",
            " [ 0.          0.          0.          0.          1.          0.        ]\n",
            " [ 0.          0.          0.          0.          0.          1.        ]\n",
            " [-0.32814101 -0.9720749  -1.07111077 -0.62123589 -0.8882752  -0.89389383]]\n"
          ],
          "name": "stdout"
        },
        {
          "output_type": "display_data",
          "data": {
            "image/png": "[encoded data removed]",
            "text/plain": [
              "<Figure size 432x288 with 2 Axes>"
            ]
          },
          "metadata": {
            "tags": []
          }
        }
      ]
    },
    {
      "cell_type": "markdown",
      "metadata": {
        "id": "ITakinY-HCCG",
        "colab_type": "text"
      },
      "source": [
        "# 2nd point solution in Part 1 of the task\n",
        "\n",
        "*Write state-space model for a spring-damper system*\n",
        "\n",
        "*Make simulation*\n",
        "\n",
        "\n",
        "\n",
        "$\\ddot{y} + \\frac{b}{m}\\dot y + \\frac{k}{m} y = \\frac{1}{m}F(t)$\n",
        "\n",
        "\n",
        "$x_1 = y \\\\ x_2 = \\dot y$\n",
        "\n",
        "$$\\begin{bmatrix} \\dot x_1 \\\\ \\dot x_2 \\end{bmatrix} = \n",
        "\\begin{bmatrix} \n",
        "0 & 1 \\\\\n",
        "-\\frac{b}{m} & -\\frac{k}{m} \n",
        "\\end{bmatrix} \n",
        "\\begin{bmatrix}x_1 \\\\ x_2 \\end{bmatrix}+\n",
        "\\begin{bmatrix}0 \\\\  \\frac{1}{m}\\end{bmatrix} F(t)$$\n",
        "\n",
        "\n"
      ]
    },
    {
      "cell_type": "code",
      "metadata": {
        "id": "QYKTIEF7GKrH",
        "colab_type": "code",
        "outputId": "dee37975-d30e-4e32-9f8c-ee6608aa175d",
        "colab": {
          "base_uri": "https://localhost:8080/",
          "height": 369
        }
      },
      "source": [
        "# 2nd point\n",
        "\n",
        "import numpy as np\n",
        "from scipy.integrate import odeint\n",
        "import matplotlib.pyplot as plt\n",
        "\n",
        "\n",
        "\n",
        "n = 3                     # degree of the polynomial including the y^(0) term with zero degree of differentiation (the degree of the ODE is 2)\n",
        "[mass, b_spring, k_damper] = np.random.rand(3)\n",
        "\n",
        "print(\"Mass: {:}, Spring Coefficient: {:}, Damper Coefficient: {:}\".format(mass, b_spring, k_damper))\n",
        "\n",
        "a = [b_spring, k_damper]\n",
        "print(\"Our coeffitients a are:\", a)\n",
        "\n",
        "a_norm = a[:] / mass     # divide by \"ak\"\n",
        "\n",
        "A = np.zeros((n-1, n-1))  # state matrix\n",
        "A[0:(n-2), 1] = 1\n",
        "A[n-2, 0:] = -a_norm\n",
        "\n",
        "print(\"Our matrix A:\")\n",
        "print(A)\n",
        "\n",
        "# Make F depends on t\n",
        "def functionF(t):\n",
        "  return np.sin(t)\n",
        "\n",
        "# x_dot from state space\n",
        "def StateSpace(x, t):\n",
        "    b = functionF(t)\n",
        "    b_matrix_coefficients = np.zeros(n-1)\n",
        "    b_matrix_coefficients[n-2] = 1/mass\n",
        "    return A.dot(x) + b_matrix_coefficients.dot(b)\n",
        "\n",
        "time = np.linspace(0, 1, 1000)   \n",
        "x0 = np.random.rand(n-1)  # initial state\n",
        "\n",
        "solution = odeint(StateSpace, x0, time)\n",
        "\n",
        "# state space based model\n",
        "plt.subplot(121)\n",
        "plt.plot(time, solution)\n",
        "plt.xlabel('time')\n",
        "plt.ylabel('x(t)')\n",
        "\n",
        "plt.show()\n"
      ],
      "execution_count": 0,
      "outputs": [
        {
          "output_type": "stream",
          "text": [
            "Mass: 0.09287803296652597, Spring Coefficient: 0.6067419308129367, Damper Coefficient: 0.29229278929645874\n",
            "Our coeffitients a are: [0.6067419308129367, 0.29229278929645874]\n",
            "Our matrix A:\n",
            "[[ 0.          1.        ]\n",
            " [-6.53267421 -3.1470605 ]]\n"
          ],
          "name": "stdout"
        },
        {
          "output_type": "display_data",
          "data": {
            "image/png": "[encoded data removed]",
            "text/plain": [
              "<Figure size 432x288 with 1 Axes>"
            ]
          },
          "metadata": {
            "tags": []
          }
        }
      ]
    },
    {
      "cell_type": "markdown",
      "metadata": {
        "id": "vdsi7wYGKpt1",
        "colab_type": "text"
      },
      "source": [
        "# Solution Task: Part 2\n"
      ]
    },
    {
      "cell_type": "markdown",
      "metadata": {
        "id": "CejEtmalWA68",
        "colab_type": "text"
      },
      "source": [
        "* We will put coordinates frame fixed on the object and we will analysis the weight of the object ($mg$) to the axis of the frame to ($mgsin(\\theta) = mg\\theta, mgcos(\\theta)= mg)$ respectively to the axis where the first one is for the x-axis of the frame and the second one for the y-axis of the frame. Notice that as the angle is too small, $sin(\\theta)$ is approximated to $\\theta$ and $cos(\\theta)$ to 1.\n",
        "\n",
        "* Calculate the torques around the pivot point\n",
        "  $\\tau = I \\alpha = \\sum F$, $I = ml^2$.\n",
        "  We will analysis the restoring forces of the springs, they have the same magnitude and the same direction due to having one spring compressed and wants to be stretched and the other one is stretched and wants to be compressed in order to return to the rest position of the springs.\n",
        "  \n",
        "  Springs restoring forces = $2kd$\n",
        "  We will analysis the restoring force to x-axis and y-axis of the object $(2kdcos\\theta , 2kdsin\\theta) = (2kd, 2kd\\theta)$ where $d = asin\\theta$\n",
        "\n",
        "  $\\sum F = -mgl\\theta - 2ka^2\\theta$\n",
        "\n",
        "* Construct the Model:\n",
        "\n",
        "  $ml^2 \\ddot \\theta = -mgl\\theta - 2ka^2\\theta$\n",
        "\n",
        "  $\\ddot \\theta + \\frac{g}{l}\\theta + \\frac{2ka^2}{ml^2}\\theta = 0$\n",
        "  \n",
        "  $\\ddot \\theta + 0 * \\dot \\theta + (\\frac{g}{l} + \\frac{2ka^2}{ml^2})\\theta = \\frac{1}{ml^2}F_{ext}$\n",
        "\n",
        "\n",
        "\n",
        "  $x_1 = \\theta \\\\ x_2 = \\dot \\theta$\n",
        "\n",
        "$$\\begin{bmatrix} \\dot x_1 \\\\ \\dot x_2 \\end{bmatrix} = \n",
        "\\begin{bmatrix} \n",
        "0 & 1 \\\\\n",
        "-\\frac{g}{l} - \\frac{2ka^2}{ml^2} & 0\n",
        "\\end{bmatrix} \n",
        "\\begin{bmatrix}x_1 \\\\ x_2 \\end{bmatrix}+\n",
        "\\begin{bmatrix}0 \\\\  \\frac{1}{ml^2}\\end{bmatrix} F(t)$$\n",
        "\n",
        "\n",
        "\n",
        "![alt text](https://drive.google.com/uc?id=1IHmzVzhVBKkP_q2damcQomFqGlxCQprX)\n",
        "\n"
      ]
    },
    {
      "cell_type": "code",
      "metadata": {
        "id": "3ZU4y9yvK4hg",
        "colab_type": "code",
        "outputId": "f2ffb326-8dd8-4047-85c7-08223c8f0666",
        "colab": {
          "base_uri": "https://localhost:8080/",
          "height": 389
        }
      },
      "source": [
        "# 2nd part\n",
        "\n",
        "import numpy as np\n",
        "from scipy.integrate import odeint\n",
        "import matplotlib.pyplot as plt\n",
        "\n",
        "n = 3                     # degree of the polynomial including the y^(0) term with zero degree of differentiation (the degree of the ODE is 2)\n",
        "[mass, k_spring, l_length, a_length] = np.random.rand(4)\n",
        "\n",
        "# Precondition of the selection of the a_length and modify it if it is not fullfill the condition\n",
        "a_length = a_length if a_length <= l_length else l_length/int(np.random.rand(1)[0]*10)\n",
        "\n",
        "g = 9.8\n",
        "print(\"Mass: {:}, Spring Coefficient: {:}, l_length (pendulem length): {:}, a_length (spring affecting length): {:}\".format(mass, k_spring, l_length, a_length))\n",
        "\n",
        "a = [mass*g/l_length + 2*k_spring*(a_length**2)/(l_length**2), 0]\n",
        "print(\"Our coeffitients a are:\", a)\n",
        "\n",
        "a_norm = a[:] / mass     # divide by \"ak\"\n",
        "\n",
        "A = np.zeros((n-1, n-1))  # state matrix\n",
        "A[0:(n-2), 1] = 1\n",
        "A[n-2, 0:] = -a_norm\n",
        "\n",
        "print(\"Our matrix A:\")\n",
        "print(A)\n",
        "\n",
        "def functionF(t):\n",
        "  return np.sin(t)\n",
        "\n",
        "# x_dot from state space\n",
        "def StateSpace(x, t):\n",
        "    b = functionF(t)\n",
        "    b_matrix_coefficients = np.array([0, 1/(mass*(l_length**2))])\n",
        "    return A.dot(x) + b_matrix_coefficients.dot(b)\n",
        "\n",
        "time = np.linspace(0, 1, 1000)   \n",
        "x0 = np.random.rand(n-1)  # initial state\n",
        "\n",
        "solution = odeint(StateSpace, x0, time)\n",
        "\n",
        "# state space based model\n",
        "plt.subplot(121)\n",
        "plt.plot(time, solution)\n",
        "plt.xlabel('time')\n",
        "plt.ylabel('x(t)')\n",
        "\n",
        "plt.show()"
      ],
      "execution_count": 0,
      "outputs": [
        {
          "output_type": "stream",
          "text": [
            "Mass: 0.8719787915286388, Spring Coefficient: 0.5586599716597537, l_length (pendulem length): 0.22820858977101643, a_length (spring affecting length): 0.11410429488550822\n",
            "Our coeffitients a are: [37.72486245047142, 0]\n",
            "Our matrix A:\n",
            "[[  0.           1.        ]\n",
            " [-43.26350918  -0.        ]]\n"
          ],
          "name": "stdout"
        },
        {
          "output_type": "display_data",
          "data": {
            "image/png": "[encoded data removed]",
            "text/plain": [
              "<Figure size 432x288 with 1 Axes>"
            ]
          },
          "metadata": {
            "tags": []
          }
        }
      ]
    }
  ]
}