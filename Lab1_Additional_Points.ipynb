{
  "nbformat": 4,
  "nbformat_minor": 0,
  "metadata": {
    "colab": {
      "name": "Lab1_Additional_Points.ipynb",
      "provenance": [],
      "collapsed_sections": [],
      "include_colab_link": true
    },
    "kernelspec": {
      "name": "python3",
      "display_name": "Python 3"
    }
  },
  "cells": [
    {
      "cell_type": "markdown",
      "metadata": {
        "id": "view-in-github",
        "colab_type": "text"
      },
      "source": [
        "<a href=\"https://colab.research.google.com/github/hany606/LCT_Spring20IU/blob/master/Lab1_Additional_Points.ipynb\" target=\"_parent\"><img src=\"https://colab.research.google.com/assets/colab-badge.svg\" alt=\"Open In Colab\"/></a>"
      ]
    },
    {
      "cell_type": "markdown",
      "metadata": {
        "id": "J8L3iESP5z8x",
        "colab_type": "text"
      },
      "source": [
        "# Info\n",
        "\n",
        "Name: Hany Hamed\n",
        "\n",
        "Group: BS18-06\n",
        "\n",
        "\n",
        "## Note: \n",
        "  In order to run successfully, you have to run the first coding cell in the begining as it will have the defintion for the class and the importing of the libraries\n"
      ]
    },
    {
      "cell_type": "markdown",
      "metadata": {
        "colab_type": "text",
        "id": "f8yAmERd9uyb"
      },
      "source": [
        "## Change DE to TF (General)\n",
        "\n",
        "Steps:\n",
        "\n",
        "  (1) Change DE to State space through changing of variables, to make the system coupled in order to be able to represent in matrix form.\n",
        "  \n",
        "  Where n is the order of the DE, the change of variables will be in the following way\n",
        "\n",
        "  $x_i = x^{(i-1)}$  $such\\ that, \\ 0 < i < n $\n",
        "\n",
        "  $ x = \\begin{bmatrix} x_1 \\\\  x_2 \\\\ . \\\\ . \\\\ x_{n}\\end{bmatrix}$ \n",
        "  $= \\begin{bmatrix} x \\\\  \\dot x \\\\ . \\\\ . \\\\ x^{n-1}\\end{bmatrix}$\n",
        "\n",
        "\n",
        "$ \\dot x = \\begin{bmatrix} x_2 \\\\  x_3 \\\\ . \\\\ . \\\\ x^{n}\\end{bmatrix}$ \n",
        "  $= \\begin{bmatrix} \\dot x \\\\  \\ddot x \\\\ . \\\\ . \\\\ x^{n}\\end{bmatrix}$\n",
        "\n",
        "\n",
        "  (2) Get the system in form of state space model as follows \n",
        "  \n",
        "  - Model:\n",
        "   $\\dot x = A x + Bu$\n",
        "  \n",
        "  such that u is function of t (the independent variable)\n",
        "\n",
        "  - Output:\n",
        "   $y = Cx$\n",
        "\n",
        "   (3) Calculate $W(p) = C(Ip-A)^{-1} B$, notice that if the system is SISO B is vector as well as C. \"p\" is considered as \"s\" variable in frequency domain and I is the identity matrix, moreover, $^{-1}$ means inverse of the matrix.\n",
        "\n"
      ]
    },
    {
      "cell_type": "code",
      "metadata": {
        "id": "QYKTIEF7GKrH",
        "colab_type": "code",
        "outputId": "039498bb-175d-45ed-e7aa-903adf0dbe76",
        "colab": {
          "base_uri": "https://localhost:8080/",
          "height": 315
        }
      },
      "source": [
        "# General Class\n",
        "\n",
        "import numpy as np\n",
        "from scipy.integrate import odeint\n",
        "import matplotlib.pyplot as plt\n",
        "\n",
        "\n",
        "\n",
        "n = 2  # order of the DE\n",
        "\n",
        "\n",
        "class StateSpaceModel:\n",
        "  def __init__(self, order=None, coefficients=None, u=None, A=None, B=None, C=None):\n",
        "    self.n = order if coefficients is None else len(coefficients[0])-1\n",
        "    self.A = np.zeros((self.n,self.n))\n",
        "    self.A[:(self.n-1), 1:] = np.identity(self.n-1)\n",
        "    self.B = np.zeros(self.n)\n",
        "    self.C = np.zeros(self.n)\n",
        "    \n",
        "    \n",
        "    if(A is not None):\n",
        "      self.setA(A)\n",
        "    if(B is not None):\n",
        "      self.setB(B)\n",
        "    if(C is not None):\n",
        "      self.setC(C)\n",
        "\n",
        "    if(coefficients is not None):\n",
        "      c = np.flip(-np.array(coefficients[0][1:])/coefficients[0][0])\n",
        "      self.setA(c)\n",
        "      # print(self.A)\n",
        "      self.setB(1/coefficients[0][0])\n",
        "      # print(self.B)\n",
        "      self.setC(np.array(coefficients[1]))\n",
        "    self.u = u if u is not None else None\n",
        "\n",
        "    print(self.A, self.B, self.C, self.u)\n",
        "  def getOrder(self):\n",
        "    return self.n\n",
        "\n",
        "  def setA(self, last_row_A):\n",
        "    self.A[n-1,:] = last_row_A\n",
        "  \n",
        "  def setB(self, c):\n",
        "    self.B[n-1] = c\n",
        "\n",
        "  def setC(self, C):\n",
        "    self.C = C\n",
        "\n",
        "  def setU(self, f_t):\n",
        "    self.u = f_t\n",
        "\n",
        "  def getStateSpace(self, x, t):\n",
        "    ret = self.A.dot(x) + self.B.dot(self.u(t))\n",
        "    return ret\n",
        "\n",
        "  def getTransferFunction(self, p):\n",
        "    aux = (np.identity(self.n)*p-self.A)\n",
        "    ret = self.C.dot(np.linalg.inv(aux)).dot(self.B)\n",
        "    return ret\n",
        "\n",
        "\n",
        "# u is function of t\n",
        "def functionU(t):\n",
        "  return t+8\n",
        "\n",
        "def solve(ssm, x0=None, t=None):\n",
        "  order = ssm.getOrder()\n",
        "  initial_conditions = x0 if x0 is not None else np.random.rand(order) \n",
        "  time = t if t is not None else np.linspace(0, 1, 1000)\n",
        "  solution = odeint(ssm.getStateSpace, initial_conditions, time)\n",
        "  if(t is None):\n",
        "      return solution, time\n",
        "  return solution \n",
        "  \n",
        "\n",
        "def plot(solution, time):\n",
        "  plt.subplot(121)\n",
        "  plt.plot(time, solution)\n",
        "  plt.xlabel('time')\n",
        "  plt.ylabel('x(t)')\n",
        "  plt.show()  \n",
        "\n",
        "# ssm = StateSpaceModel(n, functionU)\n",
        "ssm = StateSpaceModel(order=n, u=lambda t: np.sin(t))\n",
        "solution, time = solve(ssm)\n",
        "plot(solution, time)\n",
        "\n"
      ],
      "execution_count": 122,
      "outputs": [
        {
          "output_type": "stream",
          "text": [
            "[[0. 1.]\n",
            " [0. 0.]] [0. 0.] [0. 0.] <function <lambda> at 0x7f976cfd1400>\n"
          ],
          "name": "stdout"
        },
        {
          "output_type": "display_data",
          "data": {
            "image/png": "[encoded data removed]",
            "text/plain": [
              "<Figure size 432x288 with 1 Axes>"
            ]
          },
          "metadata": {
            "tags": []
          }
        }
      ]
    },
    {
      "cell_type": "markdown",
      "metadata": {
        "id": "vdsi7wYGKpt1",
        "colab_type": "text"
      },
      "source": [
        "# Solutions:\n",
        "\n",
        "\n"
      ]
    },
    {
      "cell_type": "markdown",
      "metadata": {
        "id": "CejEtmalWA68",
        "colab_type": "text"
      },
      "source": [
        "(a)\n",
        "\n"
      ]
    },
    {
      "cell_type": "code",
      "metadata": {
        "id": "3ZU4y9yvK4hg",
        "colab_type": "code",
        "outputId": "18d02580-0c21-4519-92df-a48437f0fd57",
        "colab": {
          "base_uri": "https://localhost:8080/",
          "height": 875
        }
      },
      "source": [
        "SSM = {}\n",
        "TF = {}\n",
        "SSM['a'] = StateSpaceModel(order=2, u=lambda t: 2*t+1, A=[0, -2/3], B=1/3, C=np.array([3,0]))\n",
        "TF['a'] = SSM['a'].getTransferFunction\n",
        "\n",
        "tf_plot = []\n",
        "time = np.linspace(0.01, 1, 1000)\n",
        "for i in time:\n",
        "  tf_plot.append(TF['a'](i))\n",
        "\n",
        "plot(tf_plot, time)\n",
        "\n",
        "SSM['a'] = StateSpaceModel(coefficients=np.array([[3,2,0],[3,0]]), u=lambda t: 2*t+1)\n",
        "TF['a'] = SSM['a'].getTransferFunction\n",
        "\n",
        "tf_plot = []\n",
        "time = np.linspace(0.01, 1, 1000)\n",
        "for i in time:\n",
        "  tf_plot.append(TF['a'](i))\n",
        "\n",
        "plot(tf_plot, time)\n",
        "\n",
        "# test for q.a\n",
        "test = []\n",
        "for i in time:\n",
        "  test.append(3/(i*(3*i+2)))\n",
        "plot(test,time)"
      ],
      "execution_count": 126,
      "outputs": [
        {
          "output_type": "stream",
          "text": [
            "[[ 0.          1.        ]\n",
            " [ 0.         -0.66666667]] [0.         0.33333333] [3 0] <function <lambda> at 0x7f976d814950>\n"
          ],
          "name": "stdout"
        },
        {
          "output_type": "display_data",
          "data": {
            "image/png": "[encoded data removed]",
            "text/plain": [
              "<Figure size 432x288 with 1 Axes>"
            ]
          },
          "metadata": {
            "tags": []
          }
        },
        {
          "output_type": "stream",
          "text": [
            "[[ 0.          1.        ]\n",
            " [ 0.         -0.66666667]] [0.         0.33333333] [3 0] <function <lambda> at 0x7f976cf561e0>\n"
          ],
          "name": "stdout"
        },
        {
          "output_type": "display_data",
          "data": {
            "image/png": "[encoded data removed]",
            "text/plain": [
              "<Figure size 432x288 with 1 Axes>"
            ]
          },
          "metadata": {
            "tags": []
          }
        },
        {
          "output_type": "display_data",
          "data": {
            "image/png": "[encoded data removed]",
            "text/plain": [
              "<Figure size 432x288 with 1 Axes>"
            ]
          },
          "metadata": {
            "tags": []
          }
        }
      ]
    }
  ]
}